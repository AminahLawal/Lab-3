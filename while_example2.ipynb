{
 "cells": [
  {
   "cell_type": "code",
   "execution_count": null,
   "metadata": {},
   "outputs": [],
   "source": [
    "#Count By Check\n",
    "#Suppose you want to count from some number start_num by another number count_by until you hit a final number end_num, and calculate break_num the way you did in the last quiz.\n",
    "\n",
    "#Now in addition, address what would happen if someone gives a start_num that is greater than end_num. If this is the case, set result to \"Oops! Looks like your start value is greater than the end value. Please try again.\" Otherwise, set result to the value of break_num.\n",
    "\n",
    "\n",
    "start_num = 0\n",
    "#provide some start number\n",
    "end_num =0\n",
    "#provide some end number that you stop when you hit\n",
    "count_by = 0\n",
    "#provide some number to count by \n",
    "\n",
    "# write a condition to check that end_num is larger than start_num before looping\n",
    "if end_num > start_num:\n",
    "# write a while loop that uses break_num as the ongoing number to \n",
    "while break_num < end_num:\n",
    "    break_num += count_by\n",
    "else end_num > start_num:\n",
    "#   check against end_num\n",
    "\n",
    "\n",
    "print(result)"
   ]
  }
 ],
 "metadata": {
  "kernelspec": {
   "display_name": "Python 3",
   "language": "python",
   "name": "python3"
  },
  "language_info": {
   "codemirror_mode": {
    "name": "ipython",
    "version": 3
   },
   "file_extension": ".py",
   "mimetype": "text/x-python",
   "name": "python",
   "nbconvert_exporter": "python",
   "pygments_lexer": "ipython3",
   "version": "3.7.4"
  }
 },
 "nbformat": 4,
 "nbformat_minor": 2
}
